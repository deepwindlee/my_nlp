{
 "cells": [
  {
   "cell_type": "markdown",
   "metadata": {},
   "source": [
    "## Lesson-01 Assignment"
   ]
  },
  {
   "cell_type": "markdown",
   "metadata": {},
   "source": [
    ">"
   ]
  },
  {
   "cell_type": "markdown",
   "metadata": {},
   "source": [
    "`各位同学大家好，欢迎各位开始学习我们的人工智能课程。这门课程假设大家不具备机器学习和人工智能的知识，但是希望大家具备初级的Python编程能力。根据往期同学的实际反馈，我们课程的完结之后 能力能够超过80%的计算机人工智能/深度学习方向的硕士生的能力。`"
   ]
  },
  {
   "cell_type": "markdown",
   "metadata": {},
   "source": [
    "## 本次作业的内容"
   ]
  },
  {
   "cell_type": "markdown",
   "metadata": {},
   "source": [
    "#### 1. 复现课堂代码\n",
    "\n",
    "在本部分，你需要参照我们给大家的GitHub地址里边的课堂代码，结合课堂内容，复现内容。"
   ]
  },
  {
   "cell_type": "markdown",
   "metadata": {},
   "source": [
    "#### 2. 请回答以下问题\n",
    "\n",
    "回答以下问题，并将问题发送至 mqgao@kaikeba.com中：\n",
    "```\n",
    "    2.1. what do you want to acquire in this course？\n",
    "    2.2. what problems do you want to solve？\n",
    "    2.3. what’s the advantages you have to finish you goal?\n",
    "    2.4. what’s the disadvantages you need to overcome to finish you goal?\n",
    "    2.5. How will you plan to study in this course period?\n",
    "```"
   ]
  },
  {
   "cell_type": "markdown",
   "metadata": {},
   "source": [
    "#### 3. 如何提交\n",
    "代码 + 此 jupyter 相关，提交至自己的 github 中(**所以请务必把GitHub按照班主任要求录入在Trello中**)；\n",
    "第2问，请提交至mqgao@kaikeba.com邮箱。\n",
    "#### 4. 作业截止时间\n",
    "此次作业截止时间为 2019.7.6日"
   ]
  },
  {
   "cell_type": "markdown",
   "metadata": {},
   "source": [
    "#### 5. 完成以下问答和编程练习"
   ]
  },
  {
   "cell_type": "markdown",
   "metadata": {},
   "source": [
    ">"
   ]
  },
  {
   "cell_type": "markdown",
   "metadata": {},
   "source": [
    "## 基础理论部分"
   ]
  },
  {
   "cell_type": "markdown",
   "metadata": {},
   "source": [
    "#### 0. Can you come up out 3 sceneraies which use AI methods? "
   ]
  },
  {
   "cell_type": "markdown",
   "metadata": {},
   "source": [
    "Ans:  Image Identification  ，Fault prediction，translation"
   ]
  },
  {
   "cell_type": "markdown",
   "metadata": {},
   "source": [
    "#### 1. How do we use Github; Why do we use Jupyter and Pycharm;"
   ]
  },
  {
   "cell_type": "markdown",
   "metadata": {},
   "source": [
    "Ans: The jupyter could show the result efficiently, the pycharm is suitable for engineer background"
   ]
  },
  {
   "cell_type": "markdown",
   "metadata": {},
   "source": [
    "#### 2. What's the Probability Model?"
   ]
  },
  {
   "cell_type": "markdown",
   "metadata": {},
   "source": [
    "A probability model is a mathematical representation of a random phenomenon. It is defined by its sample space, events within the sample space, and probabilities associated with each event."
   ]
  },
  {
   "cell_type": "markdown",
   "metadata": {},
   "source": [
    "#### 3. Can you came up with some sceneraies at which we could use Probability Model?"
   ]
  },
  {
   "cell_type": "markdown",
   "metadata": {},
   "source": [
    "NLP , Intelligent decision, Fault prediction"
   ]
  },
  {
   "cell_type": "markdown",
   "metadata": {},
   "source": [
    "#### 4. Why do we use probability and what's the difficult points for programming based on parsing and pattern match?"
   ]
  },
  {
   "cell_type": "markdown",
   "metadata": {},
   "source": [
    "Ans:   Insufficient generalization ability"
   ]
  },
  {
   "cell_type": "markdown",
   "metadata": {},
   "source": [
    "#### 5. What's the Language Model;"
   ]
  },
  {
   "cell_type": "markdown",
   "metadata": {},
   "source": [
    "Ans: A statistical language model is a probability distribution over sequences of words. Given such a sequence, say of length m, it assigns a probability to the whole sequence. The language model provides context to distinguish between words and phrases that sound similar."
   ]
  },
  {
   "cell_type": "markdown",
   "metadata": {},
   "source": [
    "#### 6. Can you came up with some sceneraies at which we could use Language Model?\n"
   ]
  },
  {
   "cell_type": "markdown",
   "metadata": {},
   "source": [
    "Ans: 智能问答，客服系统"
   ]
  },
  {
   "cell_type": "markdown",
   "metadata": {},
   "source": [
    "#### 7. What's the 1-gram language model;"
   ]
  },
  {
   "cell_type": "markdown",
   "metadata": {},
   "source": [
    "Ans:an n-gram model predicts  x_i based on x_i-(n-1) .... x_i-1.  In probability terms, this is {\\displaystyle P(x_{i}\\mid x_{i-(n-1)},\\dots ,x_{i-1})} P(x_{i}\\mid x_{{i-(n-1)}},\\dots ,x_{{i-1}})\n",
    "\n",
    "independence assumptions are made so that each word depends only on the last n − 1 words  "
   ]
  },
  {
   "cell_type": "markdown",
   "metadata": {},
   "source": [
    "#### 8. What's the disadvantages and advantages of 1-gram language model;"
   ]
  },
  {
   "cell_type": "markdown",
   "metadata": {},
   "source": [
    "Ans:disadvantage:  performance badly\n",
    "     advangages :  fast"
   ]
  },
  {
   "cell_type": "markdown",
   "metadata": {},
   "source": [
    "#### 9. What't the 2-gram models;"
   ]
  },
  {
   "cell_type": "markdown",
   "metadata": {},
   "source": [
    "Ans: n-gram of size 2 \n",
    "input=the dog smelled like a skunk\n",
    " \n",
    " Bigram:\n",
    " the, the dog, dog smelled, smelled like,\n",
    "like a, a skunk, skunk# \n"
   ]
  },
  {
   "cell_type": "markdown",
   "metadata": {},
   "source": [
    "## 编程实践部分"
   ]
  },
  {
   "cell_type": "markdown",
   "metadata": {},
   "source": [
    "#### 1. 设计你自己的句子生成器"
   ]
  },
  {
   "cell_type": "markdown",
   "metadata": {},
   "source": [
    "如何生成句子是一个很经典的问题，从1940s开始，图灵提出机器智能的时候，就使用的是人类能不能流畅和计算机进行对话。和计算机对话的一个前提是，计算机能够生成语言。\n",
    "\n",
    "计算机如何能生成语言是一个经典但是又很复杂的问题。 我们课程上为大家介绍的是一种基于规则（Rule Based）的生成方法。该方法虽然提出的时间早，但是现在依然在很多地方能够大显身手。值得说明的是，现在很多很实用的算法，都是很久之前提出的，例如，二分查找提出与1940s, Dijstra算法提出于1960s 等等。"
   ]
  },
  {
   "cell_type": "markdown",
   "metadata": {},
   "source": [
    "在著名的电视剧，电影《西部世界》中，这些机器人们语言生成的方法就是使用的SyntaxTree生成语言的方法。\n",
    "\n",
    "> \n",
    ">\n",
    "\n",
    "![WstWorld](https://timgsa.baidu.com/timg?image&quality=80&size=b10000_10000&sec=1561818705&di=95ca9ff2ff37fcb88ae47b82c7079feb&src=http://s7.sinaimg.cn/mw690/006BKUGwzy75VK46FMi66&690)\n",
    "\n",
    "> \n",
    ">"
   ]
  },
  {
   "cell_type": "markdown",
   "metadata": {},
   "source": [
    "在这一部分，需要各位同学首先定义自己的语言。 大家可以先想一个应用场景，然后在这个场景下，定义语法。例如：\n",
    "\n",
    "在西部世界里，一个”人类“的语言可以定义为：\n",
    "``` \n",
    "human = \"\"\"\n",
    "human = 自己 寻找 活动\n",
    "自己 = 我 | 俺 | 我们 \n",
    "寻找 = 看看 | 找找 | 想找点\n",
    "活动 = 乐子 | 玩的\n",
    "\"\"\"\n",
    "```\n",
    "\n",
    "一个“接待员”的语言可以定义为\n",
    "```\n",
    "host = \"\"\"\n",
    "host = 寒暄 报数 询问 业务相关 结尾 \n",
    "报数 = 我是 数字 号 ,\n",
    "数字 = 单个数字 | 数字 单个数字 \n",
    "单个数字 = 1 | 2 | 3 | 4 | 5 | 6 | 7 | 8 | 9 \n",
    "寒暄 = 称谓 打招呼 | 打招呼\n",
    "称谓 = 人称 ,\n",
    "人称 = 先生 | 女士 | 小朋友\n",
    "打招呼 = 你好 | 您好 \n",
    "询问 = 请问你要 | 您需要\n",
    "业务相关 = 玩玩 具体业务\n",
    "玩玩 = 耍一耍 | 玩一玩\n",
    "具体业务 = 喝酒 | 打牌 | 打猎 | 赌博\n",
    "结尾 = 吗？\"\"\"\n",
    "\n",
    "```\n",
    "\n",
    "\n"
   ]
  },
  {
   "cell_type": "markdown",
   "metadata": {},
   "source": [
    "请定义你自己的语法: "
   ]
  },
  {
   "cell_type": "markdown",
   "metadata": {},
   "source": [
    "第一个语法："
   ]
  },
  {
   "cell_type": "code",
   "execution_count": 4,
   "metadata": {},
   "outputs": [],
   "source": [
    "#you_need_replace_this_with_name_you_given =\n",
    "# you code here\n",
    "human = \"\"\"\n",
    "human = 自己 寻找 活动\n",
    "自己 = 我 | 俺 | 我们 \n",
    "寻找 = 找找 | 想找点 \n",
    "活动 = 乐子 | 玩的\n",
    "\"\"\""
   ]
  },
  {
   "cell_type": "markdown",
   "metadata": {},
   "source": [
    "第二个语法："
   ]
  },
  {
   "cell_type": "code",
   "execution_count": 5,
   "metadata": {},
   "outputs": [],
   "source": [
    "#you_need_replace_this_with_name_you_given = '''\n",
    "# you code here\n",
    "#'''\n",
    "\n",
    "host = \"\"\"\n",
    "host = 寒暄 报数 询问 业务相关 结尾 \n",
    "报数 = 我是 数字 号 ,\n",
    "数字 = 单个数字 | 数字 单个数字 \n",
    "单个数字 = 1 | 2 | 3 | 4 | 5 | 6 | 7 | 8 | 9 \n",
    "寒暄 = 称谓 打招呼 | 打招呼\n",
    "称谓 = 人称 ,\n",
    "人称 = 先生 | 女士 | 小朋友\n",
    "打招呼 = 你好 | 您好 \n",
    "询问 = 请问你要 | 您需要\n",
    "业务相关 = 玩玩 具体业务\n",
    "玩玩 = null\n",
    "具体业务 = 喝酒 | 打牌 | 打猎 | 赌博\n",
    "结尾 = 吗？\n",
    "\"\"\""
   ]
  },
  {
   "cell_type": "markdown",
   "metadata": {},
   "source": [
    "TODO: 然后，使用自己之前定义的generate函数，使用此函数生成句子。"
   ]
  },
  {
   "cell_type": "code",
   "execution_count": 12,
   "metadata": {},
   "outputs": [],
   "source": [
    "def create_grammar(grammar_str, split='=>', line_split='\\n'):\n",
    "    grammar = {}\n",
    "    for line in grammar_str.split(line_split):\n",
    "        if not line.strip(): continue\n",
    "        exp, stmt = line.split(split)\n",
    "        grammar[exp.strip()] = [s.split() for s in stmt.split('|')]\n",
    "    return grammar\n",
    "import random\n",
    "choice = random.choice\n",
    "def generate(gram, target):\n",
    "    if target not in gram: return target # means target is a terminal expression\n",
    "    \n",
    "    expaned = [generate(gram, t) for t in choice(gram[target])]\n",
    "    return ''.join([e if e != '/n' else '\\n' for e in expaned if e != 'null'])"
   ]
  },
  {
   "cell_type": "code",
   "execution_count": 13,
   "metadata": {},
   "outputs": [
    {
     "name": "stdout",
     "output_type": "stream",
     "text": [
      "小朋友,您好我是8号,请问你要打猎吗？\n",
      "您好我是9号,您需要打牌吗？\n",
      "先生,你好我是4号,请问你要打牌吗？\n",
      "你好我是1号,请问你要打猎吗？\n",
      "您好我是2347351号,请问你要打牌吗？\n",
      "你好我是9号,您需要打猎吗？\n",
      "先生,您好我是5号,请问你要喝酒吗？\n",
      "您好我是585号,请问你要喝酒吗？\n",
      "先生,您好我是6395789号,您需要打牌吗？\n",
      "你好我是7号,请问你要喝酒吗？\n",
      "女士,您好我是7号,您需要打猎吗？\n",
      "您好我是1号,请问你要打猎吗？\n",
      "先生,你好我是526号,请问你要打牌吗？\n",
      "先生,您好我是6号,请问你要打猎吗？\n",
      "您好我是785号,您需要赌博吗？\n",
      "小朋友,你好我是3号,请问你要赌博吗？\n",
      "女士,您好我是619号,请问你要赌博吗？\n",
      "小朋友,您好我是417号,请问你要打猎吗？\n",
      "女士,您好我是196号,请问你要赌博吗？\n",
      "先生,你好我是535号,请问你要打猎吗？\n"
     ]
    }
   ],
   "source": [
    "\n",
    "for i in range(20):\n",
    "    print(generate(gram=create_grammar(host, split='='), target='host'))"
   ]
  },
  {
   "cell_type": "markdown",
   "metadata": {},
   "source": [
    "TODO: 然后，定义一个函数，generate_n，将generate扩展，使其能够生成n个句子:"
   ]
  },
  {
   "cell_type": "code",
   "execution_count": 18,
   "metadata": {},
   "outputs": [],
   "source": [
    "def generate_n(n=6):\n",
    "    # you code here \n",
    "    for i in range(n):\n",
    "        print(generate(gram=create_grammar(host, split='='), target='host'))\n",
    "    #pass"
   ]
  },
  {
   "cell_type": "code",
   "execution_count": 19,
   "metadata": {},
   "outputs": [
    {
     "name": "stdout",
     "output_type": "stream",
     "text": [
      "您好我是183345331号,请问你要赌博吗？\n",
      "女士,您好我是4号,您需要打猎吗？\n",
      "你好我是78583号,请问你要打牌吗？\n",
      "女士,您好我是6881号,请问你要喝酒吗？\n",
      "女士,您好我是8号,请问你要喝酒吗？\n",
      "先生,你好我是82号,您需要喝酒吗？\n"
     ]
    }
   ],
   "source": [
    "generate_n(n=6)"
   ]
  },
  {
   "cell_type": "markdown",
   "metadata": {},
   "source": [
    ">"
   ]
  },
  {
   "cell_type": "markdown",
   "metadata": {},
   "source": [
    "#### 2. 使用新数据源完成语言模型的训练"
   ]
  },
  {
   "cell_type": "markdown",
   "metadata": {},
   "source": [
    "按照我们上文中定义的`prob_2`函数，我们更换一个文本数据源，获得新的Language Model:\n",
    "\n",
    "1. 下载文本数据集（你可以在以下数据集中任选一个，也可以两个都使用）\n",
    "    + 可选数据集1，保险行业问询对话集： https://github.com/Computing-Intelligence/insuranceqa-corpus-zh/raw/release/corpus/pool/train.txt.gz\n",
    "    + 可选数据集2：豆瓣评论数据集：https://github.com/Computing-Intelligence/datasource/raw/master/movie_comments.csv\n",
    "2. 修改代码，获得新的**2-gram**语言模型\n",
    "    + 进行文本清洗，获得所有的纯文本\n",
    "    + 将这些文本进行切词\n",
    "    + 送入之前定义的语言模型中，判断文本的合理程度"
   ]
  },
  {
   "cell_type": "code",
   "execution_count": 47,
   "metadata": {},
   "outputs": [],
   "source": [
    "def token(string):\n",
    "    import re\n",
    "    return re.findall('\\w+', string)"
   ]
  },
  {
   "cell_type": "code",
   "execution_count": 48,
   "metadata": {},
   "outputs": [],
   "source": [
    "#load file and clean the file, return all text\n",
    "def load_and_clean(file_name):\n",
    "    import re\n",
    "    import random\n",
    "    import re\n",
    "    import jieba\n",
    "    import pandas as pd\n",
    "    from collections import Counter\n",
    "    #must add parameter header\n",
    "    data = pd.read_csv(file_name, sep='\\t',header=None)\n",
    "    articles = data[0].tolist()\n",
    "    #print(len(articles)) #len = 12889\n",
    "    clean_text = []\n",
    "\n",
    "    for line in articles:\n",
    "        #split by special symbol\n",
    "        split_by_str = line.strip().split('++$++')\n",
    "        \n",
    "        #remove token line '?' in a string\n",
    "        remove_symbol = token(split_by_str[2])\n",
    "        clean_text.append(remove_symbol)\n",
    "    \n",
    "    #concatenate all str in a 2-d-list into one long str\n",
    "    one_d_str =[]\n",
    "    for i in range(12889):\n",
    "        one_d_str.append(clean_text[i][0])\n",
    "    join_text = ''.join(one_d_str)\n",
    "    \n",
    "    join_text_file = open(\"D:\\\\kaikeba\\\\train\\\\join_text.txt\", \"w\")\n",
    "    join_text_file.write(join_text)\n",
    "    join_text_file.close()\n",
    "    return join_text"
   ]
  },
  {
   "cell_type": "code",
   "execution_count": 49,
   "metadata": {},
   "outputs": [],
   "source": [
    "def cut(string):\n",
    "    \n",
    "    join_text = string\n",
    "    with_jieba_cut = Counter(jieba.cut(join_text))\n",
    "    \n",
    "    #print(with_jieba_cut.most_common()[:10])\n",
    "    return with_jieba_cut.most_common()[:20]     \n",
    "#1-gram model\n",
    "def prob_1(word):\n",
    "    token_list = []\n",
    "    for i, line in enumerate((open('D:\\\\kaikeba\\\\train\\\\oin_text.txt'))):\n",
    "        if i % 100 == 0: print(i)\n",
    "        if i > 10000: break    \n",
    "    token_list += cut(line)\n",
    "    #print(token_list)\n",
    "    return Counter(word) / len(token_list)"
   ]
  },
  {
   "cell_type": "code",
   "execution_count": 51,
   "metadata": {},
   "outputs": [
    {
     "name": "stdout",
     "output_type": "stream",
     "text": [
      "小朋友,您好我是5号,请问你要打牌吗？\n",
      "你好我是8号,请问你要喝酒吗？\n",
      "您好我是9号,请问你要打猎吗？\n",
      "先生,您好我是9号,您需要打猎吗？\n",
      "小朋友,你好我是478号,您需要打牌吗？\n",
      "女士,您好我是7号,您需要打牌吗？\n",
      "女士,你好我是56号,请问你要赌博吗？\n",
      "您好我是81号,您需要打猎吗？\n",
      "小朋友,你好我是8号,您需要喝酒吗？\n",
      "你好我是28号,请问你要打猎吗？\n"
     ]
    },
    {
     "name": "stderr",
     "output_type": "stream",
     "text": [
      "Building prefix dict from the default dictionary ...\n",
      "Loading model from cache C:\\Users\\MYDEEP~1\\AppData\\Local\\Temp\\jieba.cache\n",
      "Loading model cost 1.035 seconds.\n",
      "Prefix dict has been built succesfully.\n"
     ]
    },
    {
     "name": "stdout",
     "output_type": "stream",
     "text": [
      "[('保险', 4896), ('的', 3089), ('人寿保险', 2865), ('什么', 2621), ('是', 2314), ('吗', 2296), ('我', 1883), ('是否', 1802), ('可以', 1615), ('健康', 1487), ('如何', 1275), ('医疗保险', 1258), ('多少', 1234), ('汽车保险', 1156), ('在', 891), ('覆盖', 826), ('你', 797), ('有', 746), ('残疾', 710), ('房主', 705)]\n"
     ]
    }
   ],
   "source": [
    "def main():\n",
    "    #print(create_grammar(adj_grammar))\n",
    "    #ex_grammar = create_grammar(waitress, split = '=')\n",
    "    #print(ex_grammar)\n",
    "    import re\n",
    "    import random\n",
    "    import re\n",
    "    import jieba\n",
    "    import pandas as pd\n",
    "    from collections import Counter\n",
    "    generate_n(10)\n",
    "    file_name = filename = 'D:\\\\kaikeba\\\\train\\\\train.txt'  #'/home/carson/Desktop/开课吧－nlp/AI-and-NLP-course/train.txt'\n",
    "    join_text = load_and_clean(file_name)\n",
    "    jieba_cut_summary = cut(join_text)\n",
    "    print(jieba_cut_summary)\n",
    "    #print(prob_1('你'))\n",
    "if __name__ == \"__main__\":\n",
    "    import re\n",
    "    import random\n",
    "    import re\n",
    "    import jieba\n",
    "    import pandas as pd\n",
    "    from collections import Counter\n",
    "    main()"
   ]
  },
  {
   "cell_type": "markdown",
   "metadata": {},
   "source": [
    "https://github.com/woodamor/NLP/blob/master/L01/L01_Assignment_Westworld.py"
   ]
  },
  {
   "cell_type": "code",
   "execution_count": 59,
   "metadata": {},
   "outputs": [],
   "source": [
    "import random\n",
    "import re\n",
    "from collections import Counter\n",
    "import jieba\n",
    "import time\n",
    "choice = random.choice\n",
    "\n",
    "# define the grammar of host \n",
    "host = \"\"\"\n",
    "host = 寒暄 报数 询问 业务相关 结尾 \n",
    "报数 = , 我是 数字 号接线员 ,\n",
    "数字 = 单个数字 | 数字 单个数字 \n",
    "单个数字 = 1 | 2 | 3 | 4 | 5 | 6 | 7 | 8 | 9 \n",
    "寒暄 = 称谓 打招呼 | 打招呼\n",
    "称谓 = 人称 ,\n",
    "人称 = 先生 | 女士 | 小朋友\n",
    "打招呼 = 你好 | 您好 \n",
    "询问 = 请问你要 | 您需要 | 想去\n",
    "业务相关 = 玩玩 具体业务\n",
    "玩玩 = 耍一耍 | 玩一玩 | 尝试\n",
    "具体业务 = 喝酒 | 打牌 | 打猎 | 赌博\n",
    "结尾 = 吗？\"\"\"\n",
    "\n",
    "# define the grammar of client\n",
    "client = \"\"\"\n",
    "client = 确认 | 询问 | 拒绝\n",
    "确认 = 好的， 动作 具体业务 。\n",
    "询问 = 描述， 提问 具体业务 ?\n",
    "描述 = 我是一个人 | 我们有 人数\n",
    "人数 = 单个数字 | 人数 数字\n",
    "单个数字 = 1 | 2 | 3 | 4 | 5 | 6 | 7 | 8 | 9 \n",
    "拒绝 = 不了， 动作 具体业务 。\n",
    "动作 = 我要 | 试试 | 我想\n",
    "提问 = 去哪 | 如何 | 什么是 | 介绍一下\n",
    "具体业务 = 喝酒 | 打牌 | 打猎 | 赌博 | 赛马 | 休息\n",
    "\"\"\"\n",
    "\n",
    "simple_grammar = \"\"\"\n",
    "sentence => noun_phrase verb_phrase\n",
    "noun_phrase => Article Adj* noun\n",
    "Adj* => null | Adj Adj*\n",
    "verb_phrase => verb noun_phrase\n",
    "Article =>  一个 | 这个\n",
    "noun =>   女人 |  篮球 | 桌子 | 小猫\n",
    "verb => 看着   |  坐在 |  听着 | 看见 | 吃饭\n",
    "Adj =>  蓝色的 | 好看的 | 小小的\n",
    "\"\"\""
   ]
  },
  {
   "cell_type": "code",
   "execution_count": 60,
   "metadata": {},
   "outputs": [],
   "source": [
    "def gen_grammar(input_grammar, line_split='\\n', func_split='=', word_split='|'):\n",
    "    gram = {}\n",
    "    for line in input_grammar.split(line_split):\n",
    "        if not line:\n",
    "            continue\n",
    "        exp, stmt = line.split(func_split)\n",
    "        statement = []\n",
    "        for s in stmt.split(word_split):\n",
    "            statement.append(s.split())\n",
    "        gram[exp.strip()] = statement\n",
    "    gram[exp.strip()] = [s.split() for s in stmt.split(word_split)]\n",
    "    return gram"
   ]
  },
  {
   "cell_type": "code",
   "execution_count": 61,
   "metadata": {},
   "outputs": [
    {
     "name": "stdout",
     "output_type": "stream",
     "text": [
      "('描述，如何打牌?', 1.7323333330101773e-20, '不了，试试打牌。', 1.7323333330101773e-20)\n"
     ]
    }
   ],
   "source": [
    "def gen_sentence(grammar, target):\n",
    "    if target not in grammar:\n",
    "        return target\n",
    "    expand = [gen_sentence(grammar, t) for t in choice(grammar[target])]\n",
    "    return ''.join([e for e in expand if e != 'null'])\n",
    "\n",
    "# for i in range(20):\n",
    "# \tgrammar = gen_grammar(simple_grammar, func_split='=>')\n",
    "# \tprint(gen_sentence(grammar, target='sentence'))\n",
    "\n",
    "def gen_n(grammar, number, target):\n",
    "\tsen = []\n",
    "\tfor i in range(number):\n",
    "\t\tsen.append(gen_sentence(grammar, target))\n",
    "\treturn sen\n",
    "\n",
    "# Build language model\n",
    "def prob2(target1, target2, token_2_gram, words_count1, words_count2):\n",
    "    if target1 + target2 in token_2_gram:\n",
    "        return words_count2[target1 + target2] / words_count1[target1]\n",
    "    return 1 / len(token_2_gram)\n",
    "\n",
    "\n",
    "def get_pro(sentence, token_2_gram, words_count, words_count2):\n",
    "    words = list(jieba.cut(sentence))\n",
    "    pro = 1\n",
    "    for i, word in enumerate(words[:-1]):\n",
    "        next_ = words[i+1]\n",
    "        pro *= prob2(word, next_, token_2_gram, words_count, words_count2)\n",
    "    return pro\n",
    "\n",
    "\n",
    "def gen_best(sentences, token2, words_count, words_count2):\n",
    "\tsen_pro = []\n",
    "\tfor sen in sentences:\n",
    "\t\tpro = get_pro(sen, token2, words_count, words_count2)\n",
    "\t\tsen_pro.append([sen, pro])\n",
    "\tsen = sorted(sen_pro, key = lambda x: x[1], reverse=True)\n",
    "\treturn sen[0][0], sen[0][1],sen[1][0], sen[1][1]\n",
    "\n",
    "\n",
    "with open(r'D:\\\\kaikeba\\\\train\\\\train.txt', \n",
    "\t'r', encoding='UTF-8') as file:\n",
    "\tline_re = re.findall('[\\u4e00-\\u9fa5\\d]+', file.read()) #Chinese RE\n",
    "\ttoken = ''.join(line_re) # RE returns list so it's needed to join into a str for jieba\n",
    "\ttoken = list(jieba.cut(token)) \n",
    "\twords_count = Counter(token)\n",
    "\ttoken2 = [''.join(token[i : i+2]) for i in range(len(token) - 1)]\n",
    "\twords_count2 = Counter(token2)\n",
    "\tgrammar = gen_grammar(client, func_split='=')\n",
    "\tsentences = gen_n(grammar, number=1000, target='client')\n",
    "print(gen_best(sentences, token2, words_count, words_count2))"
   ]
  },
  {
   "cell_type": "markdown",
   "metadata": {},
   "source": [
    "> "
   ]
  },
  {
   "cell_type": "markdown",
   "metadata": {},
   "source": [
    "#### 3. 获得最优质的的语言"
   ]
  },
  {
   "cell_type": "markdown",
   "metadata": {},
   "source": [
    "当我们能够生成随机的语言并且能判断之后，我们就可以生成更加合理的语言了。请定义 generate_best 函数，该函数输入一个语法 + 语言模型，能够生成**n**个句子，并能选择一个最合理的句子: \n",
    "\n"
   ]
  },
  {
   "cell_type": "markdown",
   "metadata": {},
   "source": [
    "提示，要实现这个函数，你需要Python的sorted函数"
   ]
  },
  {
   "cell_type": "code",
   "execution_count": 13,
   "metadata": {},
   "outputs": [
    {
     "data": {
      "text/plain": [
       "[1, 2, 3, 5]"
      ]
     },
     "execution_count": 13,
     "metadata": {},
     "output_type": "execute_result"
    }
   ],
   "source": [
    "sorted([1, 3, 5, 2])"
   ]
  },
  {
   "cell_type": "markdown",
   "metadata": {},
   "source": [
    "这个函数接受一个参数key，这个参数接受一个函数作为输入，例如"
   ]
  },
  {
   "cell_type": "code",
   "execution_count": 15,
   "metadata": {},
   "outputs": [
    {
     "data": {
      "text/plain": [
       "[(1, 4), (2, 5), (4, 4), (5, 0)]"
      ]
     },
     "execution_count": 15,
     "metadata": {},
     "output_type": "execute_result"
    }
   ],
   "source": [
    "sorted([(2, 5), (1, 4), (5, 0), (4, 4)], key=lambda x: x[0])"
   ]
  },
  {
   "cell_type": "markdown",
   "metadata": {},
   "source": [
    "能够让list按照第0个元素进行排序."
   ]
  },
  {
   "cell_type": "code",
   "execution_count": 16,
   "metadata": {},
   "outputs": [
    {
     "data": {
      "text/plain": [
       "[(5, 0), (1, 4), (4, 4), (2, 5)]"
      ]
     },
     "execution_count": 16,
     "metadata": {},
     "output_type": "execute_result"
    }
   ],
   "source": [
    "sorted([(2, 5), (1, 4), (5, 0), (4, 4)], key=lambda x: x[1])"
   ]
  },
  {
   "cell_type": "markdown",
   "metadata": {},
   "source": [
    "能够让list按照第1个元素进行排序."
   ]
  },
  {
   "cell_type": "code",
   "execution_count": 17,
   "metadata": {},
   "outputs": [
    {
     "data": {
      "text/plain": [
       "[(2, 5), (1, 4), (4, 4), (5, 0)]"
      ]
     },
     "execution_count": 17,
     "metadata": {},
     "output_type": "execute_result"
    }
   ],
   "source": [
    "sorted([(2, 5), (1, 4), (5, 0), (4, 4)], key=lambda x: x[1], reverse=True)"
   ]
  },
  {
   "cell_type": "markdown",
   "metadata": {},
   "source": [
    "能够让list按照第1个元素进行排序, 但是是递减的顺序。"
   ]
  },
  {
   "cell_type": "markdown",
   "metadata": {},
   "source": [
    ">"
   ]
  },
  {
   "cell_type": "code",
   "execution_count": 20,
   "metadata": {},
   "outputs": [],
   "source": [
    "def generate_best(): # you code here\n",
    "    pass"
   ]
  },
  {
   "cell_type": "markdown",
   "metadata": {},
   "source": [
    "好了，现在我们实现了自己的第一个AI模型，这个模型能够生成比较接近于人类的语言。"
   ]
  },
  {
   "cell_type": "markdown",
   "metadata": {},
   "source": [
    ">"
   ]
  },
  {
   "cell_type": "markdown",
   "metadata": {},
   "source": [
    "Q: 这个模型有什么问题？ 你准备如何提升？ "
   ]
  },
  {
   "cell_type": "markdown",
   "metadata": {},
   "source": [
    "Ans:"
   ]
  },
  {
   "cell_type": "markdown",
   "metadata": {},
   "source": [
    ">"
   ]
  },
  {
   "cell_type": "markdown",
   "metadata": {},
   "source": [
    "##### 以下内容为可选部分，对于绝大多数同学，能完成以上的项目已经很优秀了，下边的内容如果你还有精力可以试试，但不是必须的。"
   ]
  },
  {
   "cell_type": "markdown",
   "metadata": {},
   "source": [
    "#### 4. (Optional) 完成基于Pattern Match的语句问答\n",
    "> 我们的GitHub仓库中，有一个assignment-01-optional-pattern-match，这个难度较大，感兴趣的同学可以挑战一下。"
   ]
  },
  {
   "cell_type": "markdown",
   "metadata": {},
   "source": [
    "\n",
    "#### 5. (Optional) 完成阿兰图灵机器智能原始论文的阅读\n",
    "1. 请阅读阿兰图灵关于机器智能的原始论文：https://github.com/Computing-Intelligence/References/blob/master/AI%20%26%20Machine%20Learning/Computer%20Machinery%20and%20Intelligence.pdf \n",
    "2. 并按照GitHub仓库中的论文阅读模板，填写完毕后发送给我: mqgao@kaikeba.com 谢谢"
   ]
  },
  {
   "cell_type": "markdown",
   "metadata": {},
   "source": [
    "> "
   ]
  },
  {
   "cell_type": "markdown",
   "metadata": {},
   "source": [
    "各位同学，我们已经完成了自己的第一个AI模型，大家对人工智能可能已经有了一些感觉，人工智能的核心就是，我们如何设计一个模型、程序，在外部的输入变化的时候，我们的程序不变，依然能够解决问题。人工智能是一个很大的领域，目前大家所熟知的深度学习只是其中一小部分，之后也肯定会有更多的方法提出来，但是大家知道人工智能的目标，就知道了之后进步的方向。"
   ]
  },
  {
   "cell_type": "markdown",
   "metadata": {},
   "source": [
    "然后，希望大家对AI不要有恐惧感，这个并不难，大家加油！"
   ]
  },
  {
   "cell_type": "markdown",
   "metadata": {},
   "source": [
    ">"
   ]
  },
  {
   "cell_type": "markdown",
   "metadata": {},
   "source": [
    "![](https://timgsa.baidu.com/timg?image&quality=80&size=b9999_10000&sec=1561828422005&di=48d19c16afb6acc9180183a6116088ac&imgtype=0&src=http%3A%2F%2Fb-ssl.duitang.com%2Fuploads%2Fitem%2F201807%2F28%2F20180728150843_BECNF.thumb.224_0.jpeg)"
   ]
  }
 ],
 "metadata": {
  "kernelspec": {
   "display_name": "Python 3",
   "language": "python",
   "name": "python3"
  },
  "language_info": {
   "codemirror_mode": {
    "name": "ipython",
    "version": 3
   },
   "file_extension": ".py",
   "mimetype": "text/x-python",
   "name": "python",
   "nbconvert_exporter": "python",
   "pygments_lexer": "ipython3",
   "version": "3.6.8"
  }
 },
 "nbformat": 4,
 "nbformat_minor": 2
}
